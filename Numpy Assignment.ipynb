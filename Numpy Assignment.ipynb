{
 "cells": [
  {
   "cell_type": "markdown",
   "id": "80d4990a-7b31-433c-a036-8714e1178630",
   "metadata": {},
   "source": [
    "1. What is a Python library? Why do we use Python libraries?"
   ]
  },
  {
   "cell_type": "markdown",
   "id": "3af916f3-c559-41ae-8a06-8acdcb8204b0",
   "metadata": {},
   "source": [
    "Ans :  A Python library is a collection of pre-written code that provides functionality for a \n",
    "       specific task or set of tasks, which can be easily imported and used in Python programs.\n",
    "       Python libraries are essentially modules or packages that contain functions, classes, and \n",
    "       methods to perform various operations, such as data manipulation, visualization, machine learning.\n",
    "     \n",
    "     Use of Python libraries:\n",
    "     \n",
    "     1.Code Reusability: Libraries provide reusable code, saving time and effort needed to write code from scratch. \n",
    "     Developers can leverage existing libraries to perform common tasks.\n",
    "\n",
    "    2.Simplification: Libraries abstract complex operations and provide simple interfaces for developers. For example, \n",
    "     using libraries like NumPy or Pandas allows for handling complex mathematical operations and data manipulation with \n",
    "     simpler code.\n",
    "\n",
    "    3.Efficiency: Libraries are often optimized for performance. They contain efficient algorithms that can handle tasks \n",
    "     faster than custom-written code.\n",
    "\n",
    "\n"
   ]
  },
  {
   "cell_type": "markdown",
   "id": "2162eba5-ecb5-4332-a397-bdc54e4250ee",
   "metadata": {},
   "source": [
    "2. What is the difference between Numpy array and List?"
   ]
  },
  {
   "cell_type": "markdown",
   "id": "0bd0c799-9f6f-4d13-880f-caa90bae7082",
   "metadata": {},
   "source": [
    "\n",
    "1.) Data Structure:\n",
    "\n",
    "   NumPy Array: NumPy arrays are homogeneous, meaning all elements in the array must be of the same \n",
    "   data type (e.g., all integers, all floats).\n",
    "   \n",
    "   Python List: Python lists are heterogeneous and can contain elements of different data types \n",
    "   (e.g., integers, floats, strings, objects).\n",
    "   \n",
    "2.)Size:\n",
    "\n",
    "   NumPy Array: NumPy arrays have a fixed size. Once an array is created, its size cannot be changed directly. To resize \n",
    "   or change the size of an array, you need to create a new array.\n",
    "   \n",
    "   Python List: Python lists are dynamic in size. You can easily add, remove, or modify elements after the list is created.\n",
    "   \n",
    "3.)Performance:\n",
    "\n",
    "   NumPy Array: NumPy arrays are faster and more efficient for numerical computations because they are implemented in C \n",
    "   and optimized for such tasks.\n",
    "   \n",
    "   Python List: Python lists are slower because they are general-purpose data structures and involve more overhead.\n",
    "   \n",
    "4.)Memory Efficiency:\n",
    "\n",
    "   NumPy Array: NumPy arrays are more memory-efficient because they store elements of the same data type contiguously,\n",
    "   which optimizes memory usage.\n",
    "   \n",
    "   Python List: Python lists are less memory-efficient as they store references to objects rather than the actual objects\n",
    "   themselves, which results in more memory overhead.\n",
    "   \n",
    "5.)Operations:\n",
    "\n",
    "   NumPy Array: NumPy arrays support vectorized operations, meaning you can perform element-wise operations directly without \n",
    "   the need for explicit loops. This makes them highly efficient for mathematical computations.\n",
    "   \n",
    "   Python List: Python lists do not support vectorized operations, and typically require explicit loops to perform element-wise\n",
    "   operations, which can be slower and less concise."
   ]
  },
  {
   "cell_type": "code",
   "execution_count": null,
   "id": "aaa8caab-c50e-47e9-9408-30f60664b1c6",
   "metadata": {},
   "outputs": [],
   "source": [
    "3. Find the shape, size and dimension of the following array?\n",
    "[[1, 2, 3, 4]\n",
    "[5, 6, 7, 8],\n",
    "[9, 10, 11, 12]]"
   ]
  },
  {
   "cell_type": "code",
   "execution_count": 4,
   "id": "11376aa8-9448-4ee3-b7ef-1c04091067e3",
   "metadata": {},
   "outputs": [
    {
     "name": "stdout",
     "output_type": "stream",
     "text": [
      "Shape (3, 4)\n",
      "Size 12\n",
      "Dimension 2\n"
     ]
    }
   ],
   "source": [
    "import numpy as np\n",
    "a = np.array([[1, 2, 3, 4],\n",
    "[5, 6, 7, 8],\n",
    "[9, 10, 11, 12]])\n",
    "\n",
    "print('Shape',a.shape)\n",
    "print('Size',a.size)\n",
    "print('Dimension' , a.ndim)"
   ]
  },
  {
   "cell_type": "code",
   "execution_count": null,
   "id": "29b4a660-be98-481c-abee-140216fde485",
   "metadata": {},
   "outputs": [],
   "source": [
    "4. Write python code to access the first row of the following array?\n",
    "[[1, 2, 3, 4]\n",
    "[5, 6, 7, 8],\n",
    "[9, 10, 11, 12]]"
   ]
  },
  {
   "cell_type": "code",
   "execution_count": 9,
   "id": "2ddd784a-323d-4f91-89ea-52d972a58ea0",
   "metadata": {},
   "outputs": [
    {
     "name": "stdout",
     "output_type": "stream",
     "text": [
      "[1 2 3 4]\n"
     ]
    }
   ],
   "source": [
    "import numpy as np\n",
    "b =np.array([[1, 2, 3, 4],\n",
    "[5, 6, 7, 8],\n",
    "[9, 10, 11, 12]])\n",
    "\n",
    "print(b[0])\n"
   ]
  },
  {
   "cell_type": "code",
   "execution_count": null,
   "id": "3e73f0a5-7032-493f-a1c4-07cf82717a0d",
   "metadata": {},
   "outputs": [],
   "source": [
    "5. How do you access the element at the third row and fourth column from the given numpy array?\n",
    "[[1, 2, 3, 4]\n",
    "[5, 6, 7, 8],\n",
    "[9, 10, 11, 12]]"
   ]
  },
  {
   "cell_type": "code",
   "execution_count": 10,
   "id": "599910b7-7364-4cc5-9b57-97fdd7f75bee",
   "metadata": {},
   "outputs": [
    {
     "name": "stdout",
     "output_type": "stream",
     "text": [
      "12\n"
     ]
    }
   ],
   "source": [
    "import numpy as np\n",
    "\n",
    "c = np.array([[1, 2, 3, 4],\n",
    "[5, 6, 7, 8],\n",
    "[9, 10, 11, 12]])\n",
    "\n",
    "print(c[2][3])\n"
   ]
  },
  {
   "cell_type": "code",
   "execution_count": null,
   "id": "193477c3-264b-48d1-b370-93312619a705",
   "metadata": {},
   "outputs": [],
   "source": [
    "6. Write code to extract all odd-indexed elements from the given numpy array?\n",
    "[[1, 2, 3, 4]\n",
    "[5, 6, 7, 8],\n",
    "[9, 10, 11, 12]]"
   ]
  },
  {
   "cell_type": "code",
   "execution_count": 11,
   "id": "59bf35f0-e2b3-411b-8ea9-a7f847f49d54",
   "metadata": {},
   "outputs": [
    {
     "name": "stdout",
     "output_type": "stream",
     "text": [
      "[[ 1  3]\n",
      " [ 9 11]]\n"
     ]
    }
   ],
   "source": [
    "import numpy as np\n",
    "\n",
    "d = np.array([[1, 2, 3, 4],\n",
    "[5, 6, 7, 8],\n",
    "[9, 10, 11, 12]])\n",
    "\n",
    "print(d[::2,::2])\n",
    "\n"
   ]
  },
  {
   "cell_type": "markdown",
   "id": "ff8d9933-18dc-4b19-bdea-2f3697c231b2",
   "metadata": {},
   "source": [
    "7. How can you generate a random 3x3 matrix with values between 0 and 1?"
   ]
  },
  {
   "cell_type": "code",
   "execution_count": 19,
   "id": "bd4808ae-281d-4575-b10b-f332cd58e213",
   "metadata": {},
   "outputs": [
    {
     "data": {
      "text/plain": [
       "array([[0.80040482, 0.27887913, 0.88834502],\n",
       "       [0.20943417, 0.72938241, 0.09014623],\n",
       "       [0.88796155, 0.47446028, 0.69368372]])"
      ]
     },
     "execution_count": 19,
     "metadata": {},
     "output_type": "execute_result"
    }
   ],
   "source": [
    "import numpy as np\n",
    "\n",
    "e = np.random.rand(3,3)\n",
    "e"
   ]
  },
  {
   "cell_type": "markdown",
   "id": "62a40720-2c86-4feb-a181-4e704d82b31a",
   "metadata": {},
   "source": [
    "8. Describe the difference between np.random.rand and np.random.randn?"
   ]
  },
  {
   "cell_type": "markdown",
   "id": "3436c292-03a8-4d53-b1db-b709b7378560",
   "metadata": {},
   "source": [
    " np.random.rand()\n",
    " Distribution: Uniform distribution over [0, 1).\n",
    "\n",
    "    Usage: Generates random numbers that are uniformly distributed between 0 and 1.\n",
    "\n",
    "    Syntax: np.random.rand(d0, d1, ..., dn)\n",
    "\n",
    "    d0, d1, ..., dn: Dimensions of the output array."
   ]
  },
  {
   "cell_type": "code",
   "execution_count": 20,
   "id": "42ed9bc4-2c7e-4f00-9a58-6f97d602d4fa",
   "metadata": {},
   "outputs": [
    {
     "data": {
      "text/plain": [
       "array([[0.52595391, 0.17373951],\n",
       "       [0.06544048, 0.8960783 ]])"
      ]
     },
     "execution_count": 20,
     "metadata": {},
     "output_type": "execute_result"
    }
   ],
   "source": [
    "import numpy as np\n",
    "f = np.random.rand(2,2)\n",
    "f"
   ]
  },
  {
   "cell_type": "markdown",
   "id": "e02c1f5e-b6bc-4110-9037-b57d8dac8ece",
   "metadata": {},
   "source": [
    " np.random.randn()\n",
    "\n",
    " Distribution: Standard normal (Gaussian) distribution with mean 0 and standard deviation 1.\n",
    " \n",
    "     Usage: Generates random numbers that are normally distributed.\n",
    "\n",
    "    Syntax: np.random.randn(d0, d1, ..., dn)\n",
    "\n",
    "     d0, d1, ..., dn: Dimensions of the output array."
   ]
  },
  {
   "cell_type": "code",
   "execution_count": 21,
   "id": "976ce23f-8c44-4544-998d-56fc2f780a33",
   "metadata": {},
   "outputs": [
    {
     "data": {
      "text/plain": [
       "array([[-1.95133993,  0.85996057,  0.17392889],\n",
       "       [-0.11512157, -1.10715202, -1.3803259 ],\n",
       "       [-1.05221639,  1.3239394 ,  1.14018282]])"
      ]
     },
     "execution_count": 21,
     "metadata": {},
     "output_type": "execute_result"
    }
   ],
   "source": [
    "import numpy as np\n",
    "\n",
    "g = np.random.randn(3,3)\n",
    "g"
   ]
  },
  {
   "cell_type": "markdown",
   "id": "820c6dca-2e54-44bf-9fe6-0929f3481d81",
   "metadata": {},
   "source": [
    "9. Write code to increase the dimension of the following array?\n",
    "[[1, 2, 3, 4]\n",
    "[5, 6, 7, 8],\n",
    "[9, 10, 11, 12]]"
   ]
  },
  {
   "cell_type": "code",
   "execution_count": 23,
   "id": "91105d68-c383-43bd-a0d8-8e0399231b60",
   "metadata": {},
   "outputs": [
    {
     "name": "stdout",
     "output_type": "stream",
     "text": [
      "[[[ 1  2  3  4]\n",
      "  [ 5  6  7  8]\n",
      "  [ 9 10 11 12]]]\n"
     ]
    }
   ],
   "source": [
    "import numpy as np\n",
    "\n",
    "h = np.array([[1, 2, 3, 4],\n",
    "[5, 6, 7, 8],\n",
    "[9, 10, 11, 12]])\n",
    "\n",
    "print(np.expand_dims(h,axis=0))"
   ]
  },
  {
   "cell_type": "code",
   "execution_count": 24,
   "id": "813a0d05-7eef-4b44-ac18-35632cf74def",
   "metadata": {},
   "outputs": [
    {
     "name": "stdout",
     "output_type": "stream",
     "text": [
      "[[[ 1  2  3  4]]\n",
      "\n",
      " [[ 5  6  7  8]]\n",
      "\n",
      " [[ 9 10 11 12]]]\n"
     ]
    }
   ],
   "source": [
    "print(np.expand_dims(h,axis=1))"
   ]
  },
  {
   "cell_type": "markdown",
   "id": "0dc5765f-1631-4d2c-8e91-267bca0f17cd",
   "metadata": {},
   "source": [
    "10. How to transpose the following array in NumPy?\n",
    "[[1, 2, 3, 4]\n",
    "[5, 6, 7, 8],\n",
    "[9, 10, 11, 12]]"
   ]
  },
  {
   "cell_type": "code",
   "execution_count": 26,
   "id": "4f68d4ff-876a-4fbe-b8cd-f6ec2216ed9b",
   "metadata": {},
   "outputs": [
    {
     "name": "stdout",
     "output_type": "stream",
     "text": [
      "[[ 1  5  9]\n",
      " [ 2  6 10]\n",
      " [ 3  7 11]\n",
      " [ 4  8 12]]\n"
     ]
    }
   ],
   "source": [
    "import numpy as np\n",
    "\n",
    "i = np.array([[1, 2, 3, 4],\n",
    "[5, 6, 7, 8],\n",
    "[9, 10, 11, 12]])\n",
    "\n",
    "print(np.transpose(i))"
   ]
  },
  {
   "cell_type": "markdown",
   "id": "78c6b325-a46d-421c-a14a-16ce3951891a",
   "metadata": {},
   "source": [
    "11. Consider the following matrix:\n",
    "Matrix A: [[1, 2, 3, 4] [5, 6, 7, 8],[9, 10, 11, 12]]\n",
    "Matrix B: [[1, 2, 3, 4] [5, 6, 7, 8],[9, 10, 11, 12]]\n",
    "Perform the following operation using Python\n",
    "\n",
    "1.Index wise multiplication\n",
    "2. Matrix multiplication\n",
    "3. Add both the matrics\n",
    "4. Subtract matrix B from A\n",
    "5. Divide Matrix B by A"
   ]
  },
  {
   "cell_type": "code",
   "execution_count": 29,
   "id": "187ce865-f055-4aaa-9e6f-56244e993a0b",
   "metadata": {},
   "outputs": [],
   "source": [
    "import numpy as np\n",
    "matrixA = np.array([[1, 2, 3, 4], [5, 6, 7, 8],[9, 10, 11, 12]])\n",
    "matrixB= np.array([[1, 2, 3, 4], [5, 6, 7, 8],[9, 10, 11, 12]])"
   ]
  },
  {
   "cell_type": "markdown",
   "id": "bb921cf8-b43c-4787-9b09-2351329e13aa",
   "metadata": {},
   "source": [
    "1.Index wise multiplication"
   ]
  },
  {
   "cell_type": "code",
   "execution_count": 33,
   "id": "8a60e8c4-cd69-47b2-8cf1-1e34fa2c0886",
   "metadata": {},
   "outputs": [
    {
     "data": {
      "text/plain": [
       "array([[  1,   4,   9,  16],\n",
       "       [ 25,  36,  49,  64],\n",
       "       [ 81, 100, 121, 144]])"
      ]
     },
     "execution_count": 33,
     "metadata": {},
     "output_type": "execute_result"
    }
   ],
   "source": [
    "im = np.multiply(matrixA,matrixB)\n",
    "im"
   ]
  },
  {
   "cell_type": "markdown",
   "id": "a253db38-5bc5-4f75-bf4f-8b2bcc2347c3",
   "metadata": {},
   "source": [
    "2. Matrix multiplication"
   ]
  },
  {
   "cell_type": "code",
   "execution_count": 35,
   "id": "13ed77ee-0c63-4a23-9626-1f2688e68059",
   "metadata": {},
   "outputs": [
    {
     "data": {
      "text/plain": [
       "array([[ 30,  70, 110],\n",
       "       [ 70, 174, 278],\n",
       "       [110, 278, 446]])"
      ]
     },
     "execution_count": 35,
     "metadata": {},
     "output_type": "execute_result"
    }
   ],
   "source": [
    "matrixC = np.transpose(matrixB)\n",
    "mm = np.dot(matrixA,matrixC)\n",
    "mm"
   ]
  },
  {
   "cell_type": "markdown",
   "id": "15382353-1ade-45b0-b9b9-a2addaf5c2ee",
   "metadata": {},
   "source": [
    "3. Add both the matrics"
   ]
  },
  {
   "cell_type": "code",
   "execution_count": 36,
   "id": "83f33603-a5eb-4865-afec-d6716b79b55a",
   "metadata": {},
   "outputs": [
    {
     "data": {
      "text/plain": [
       "array([[ 2,  4,  6,  8],\n",
       "       [10, 12, 14, 16],\n",
       "       [18, 20, 22, 24]])"
      ]
     },
     "execution_count": 36,
     "metadata": {},
     "output_type": "execute_result"
    }
   ],
   "source": [
    "am = np.add(matrixA,matrixB)\n",
    "am"
   ]
  },
  {
   "cell_type": "markdown",
   "id": "b3db18a7-8cfc-4627-81e1-75158a22f6f3",
   "metadata": {},
   "source": [
    "4. Subtract matrix B from A"
   ]
  },
  {
   "cell_type": "code",
   "execution_count": 38,
   "id": "0a521ad3-9f4b-4685-80aa-435b631ecd1a",
   "metadata": {},
   "outputs": [
    {
     "data": {
      "text/plain": [
       "array([[0, 0, 0, 0],\n",
       "       [0, 0, 0, 0],\n",
       "       [0, 0, 0, 0]])"
      ]
     },
     "execution_count": 38,
     "metadata": {},
     "output_type": "execute_result"
    }
   ],
   "source": [
    "sm = np.subtract(matrixA,matrixB)\n",
    "sm"
   ]
  },
  {
   "cell_type": "markdown",
   "id": "da8533e7-34ac-49a6-8c07-d620491e3f90",
   "metadata": {},
   "source": [
    "5. Divide Matrix B by A"
   ]
  },
  {
   "cell_type": "code",
   "execution_count": 39,
   "id": "3d1b128b-c937-409c-a652-3ab65b60e47e",
   "metadata": {},
   "outputs": [
    {
     "data": {
      "text/plain": [
       "array([[1., 1., 1., 1.],\n",
       "       [1., 1., 1., 1.],\n",
       "       [1., 1., 1., 1.]])"
      ]
     },
     "execution_count": 39,
     "metadata": {},
     "output_type": "execute_result"
    }
   ],
   "source": [
    "dm = np.divide(matrixB,matrixA)\n",
    "dm"
   ]
  },
  {
   "cell_type": "markdown",
   "id": "01db0130-0bf0-42f8-8052-b7b44a93644a",
   "metadata": {},
   "source": [
    "Which function in Numpy can be used to swap the byte order of an array?"
   ]
  },
  {
   "cell_type": "code",
   "execution_count": null,
   "id": "db65f3d8-e1bc-410a-936a-71fb8ada19d9",
   "metadata": {},
   "outputs": [],
   "source": [
    "np.ndarray.byteswap(). This method changes the byte order of each element in the array, \n",
    "which can be useful for converting between little-endian and big-endian formats."
   ]
  },
  {
   "cell_type": "code",
   "execution_count": 41,
   "id": "16abeff4-aa04-4ee9-b53f-fd967e5dd923",
   "metadata": {},
   "outputs": [
    {
     "name": "stdout",
     "output_type": "stream",
     "text": [
      "Printing the original array\n",
      "[1 3 6]\n",
      "[ 256  768 1536]\n"
     ]
    }
   ],
   "source": [
    "import numpy as np\n",
    "a1 = np.array([1,3,6],dtype='>i2')\n",
    "print('Printing the original array')\n",
    "print(a1)\n",
    "b1 = a1.byteswap()\n",
    "print(b1)"
   ]
  },
  {
   "cell_type": "markdown",
   "id": "3b8d7e77-ee60-4453-9e86-cbba244ceb2d",
   "metadata": {},
   "source": [
    "13.What is the significance of the np.linalg.inv function?"
   ]
  },
  {
   "cell_type": "markdown",
   "id": "8428b932-a3ce-4db8-a5c5-9e40d33227c7",
   "metadata": {},
   "source": [
    "The np.linalg.inv() function in NumPy is used to compute the inverse of a square matrix. In linear algebra, the inverse of a matrix \n",
    "𝐴.A is another matrix 𝐴−1.A−1 such that when multiplied together, they yield the identity matrix \n",
    "𝐼\n",
    "I: 𝐴 × 𝐴−1 = 𝐼 \n",
    "\n",
    "Significance : \n",
    "   1.) Solving Linear Systems: The inverse of a matrix is useful for solving linear systems of equations. For example, if you have a system of \n",
    "    linear equations represented as 𝐴𝑥 = 𝑏\n",
    "          Ax=b, where 𝐴\n",
    "         A is a square matrix, \n",
    "        x is the vector of unknowns, and \n",
    "        b is a known vector, the solution can be found by:\n",
    "\n",
    "          𝑥 =𝐴−1𝑏\n",
    "2.)Matrix Transformations: In computer graphics, control theory, and various engineering applications, \n",
    "       matrix inverses are used to reverse transformations applied to objects or systems.\n",
    "\n",
    "\n"
   ]
  },
  {
   "cell_type": "markdown",
   "id": "96b6517f-c4e2-4430-9a03-bf135f4be7e5",
   "metadata": {},
   "source": [
    "14. What does the np.reshape function do, and how is it used?"
   ]
  },
  {
   "cell_type": "code",
   "execution_count": null,
   "id": "c2039638-2ecf-4e5c-aca9-2ca39bf5acbd",
   "metadata": {},
   "outputs": [],
   "source": [
    "The np.reshape() function in NumPy is used to change the shape of an array without altering its data. \n",
    "This function returns a new array with the specified shape, which must have the same number of elements as the original array."
   ]
  },
  {
   "cell_type": "code",
   "execution_count": 42,
   "id": "caae1d4d-7f7a-4bd4-81c1-c66b1c50ba7d",
   "metadata": {},
   "outputs": [
    {
     "data": {
      "text/plain": [
       "array([ 0,  1,  2,  3,  4,  5,  6,  7,  8,  9, 10, 11])"
      ]
     },
     "execution_count": 42,
     "metadata": {},
     "output_type": "execute_result"
    }
   ],
   "source": [
    "import numpy as np\n",
    "a3 = np.arange(12)\n",
    "a3"
   ]
  },
  {
   "cell_type": "code",
   "execution_count": 43,
   "id": "674e1203-732a-4b0a-a185-d90a1e2799fe",
   "metadata": {},
   "outputs": [],
   "source": [
    "b3 = np.reshape(a3,(3,4))"
   ]
  },
  {
   "cell_type": "code",
   "execution_count": 44,
   "id": "381d6a7b-4db5-4eef-b808-71468be33979",
   "metadata": {},
   "outputs": [
    {
     "data": {
      "text/plain": [
       "array([[ 0,  1,  2,  3],\n",
       "       [ 4,  5,  6,  7],\n",
       "       [ 8,  9, 10, 11]])"
      ]
     },
     "execution_count": 44,
     "metadata": {},
     "output_type": "execute_result"
    }
   ],
   "source": [
    "b3"
   ]
  },
  {
   "cell_type": "markdown",
   "id": "f2d39c9c-834f-42d5-a6a6-6c4b12101515",
   "metadata": {},
   "source": [
    "15. What is broadcasting in Numpy?"
   ]
  },
  {
   "cell_type": "markdown",
   "id": "28994686-b834-4089-8f6f-55874e20ffb1",
   "metadata": {},
   "source": [
    "Broadcasting in NumPy is a technique that allows operations on arrays of different shapes to be performed \n",
    "together in a way that mimics having arrays of the same shape. This concept is fundamental for efficiently \n",
    "handling operations on arrays of varying dimensions and sizes."
   ]
  },
  {
   "cell_type": "code",
   "execution_count": 45,
   "id": "fdf6f02c-257c-4b63-baf2-e11c377d0025",
   "metadata": {},
   "outputs": [
    {
     "name": "stdout",
     "output_type": "stream",
     "text": [
      "[3 4 5 6]\n"
     ]
    }
   ],
   "source": [
    "import numpy as np\n",
    "a4 = np.array([1,2,3,4])\n",
    "scalar = 2\n",
    "print(a4 + 2)"
   ]
  },
  {
   "cell_type": "code",
   "execution_count": null,
   "id": "968cea6c-5cec-40f7-91c0-a070cf2ddcdd",
   "metadata": {},
   "outputs": [],
   "source": []
  }
 ],
 "metadata": {
  "kernelspec": {
   "display_name": "Python 3 (ipykernel)",
   "language": "python",
   "name": "python3"
  },
  "language_info": {
   "codemirror_mode": {
    "name": "ipython",
    "version": 3
   },
   "file_extension": ".py",
   "mimetype": "text/x-python",
   "name": "python",
   "nbconvert_exporter": "python",
   "pygments_lexer": "ipython3",
   "version": "3.10.8"
  }
 },
 "nbformat": 4,
 "nbformat_minor": 5
}
